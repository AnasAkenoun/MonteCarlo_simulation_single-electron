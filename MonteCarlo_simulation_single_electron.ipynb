{
  "cells": [
    {
      "cell_type": "markdown",
      "metadata": {
        "id": "view-in-github",
        "colab_type": "text"
      },
      "source": [
        "<a href=\"https://colab.research.google.com/github/AnasAkenoun/MonteCarlo_simulation_single-electron/blob/main/MonteCarlo_simulation_single_electron.ipynb\" target=\"_parent\"><img src=\"https://colab.research.google.com/assets/colab-badge.svg\" alt=\"Open In Colab\"/></a>"
      ]
    },
    {
      "cell_type": "markdown",
      "metadata": {
        "id": "znYglZzRkzo_"
      },
      "source": [
        "**We are going to follow the hereunder steps:**\n",
        "\n",
        "\n",
        "1-Generate random numbers.\n",
        "\n",
        "2-We define the number of electrons num_electrons, the number of time steps num_steps, and the possible energy states of the quantum well\n",
        "\n",
        "3- Define time rqnge of the transition recording\n",
        "4- Randomly select an electron to jump\n",
        "\n",
        "5-Calculate the potential energy difference for jumping to a neighboring position\n",
        "\n",
        "6- Calculate the probability of jumping to a neighboring position\n",
        "\n",
        "7- Update the energy of the electron selected\n",
        "\n",
        "The electrons are now is in their energy states\n",
        "8- Select an electron (by user) and record it's energy states over time\n",
        "\n",
        "9- Plot the energy states of the selected electron over time"
      ]
    },
    {
      "cell_type": "code",
      "execution_count": null,
      "metadata": {
        "colab": {
          "base_uri": "https://localhost:8080/",
          "height": 705
        },
        "id": "nt6eDkEQkeE4",
        "outputId": "31d49bf4-922d-4087-b5fe-19f46403e426"
      },
      "outputs": [
        {
          "output_type": "stream",
          "name": "stderr",
          "text": [
            "WARNING:matplotlib.legend:No artists with labels found to put in legend.  Note that artists whose label start with an underscore are ignored when legend() is called with no argument.\n"
          ]
        },
        {
          "output_type": "stream",
          "name": "stdout",
          "text": [
            "100\n",
            "[2. 2. 2. 2. 2. 2. 2. 2. 2. 2. 2. 2. 2. 2. 2. 2. 3. 3. 3. 4. 4. 4. 4. 4.\n",
            " 4. 4. 4. 4. 4. 4. 5. 5. 5. 5. 5. 5. 5. 5. 5. 5. 5. 5. 5. 5. 5. 5. 5. 5.\n",
            " 5. 5. 5. 5. 5. 5. 5. 5. 5. 5. 5. 5. 5. 4. 4. 4. 4. 4. 4. 4. 4. 4. 4. 4.\n",
            " 4. 4. 4. 4. 4. 4. 4. 4. 4. 4. 4. 4. 4. 4. 4. 4. 4. 4. 4. 4. 4. 4. 4. 4.\n",
            " 4. 4. 4. 4.]\n"
          ]
        },
        {
          "output_type": "display_data",
          "data": {
            "text/plain": [
              "<Figure size 1000x600 with 1 Axes>"
            ],
            "image/png": "[encoded data removed]"
          },
          "metadata": {}
        }
      ],
      "source": [
        "# Importation of the required librairies\n",
        "\n",
        "import random\n",
        "import numpy as np\n",
        "import matplotlib.pyplot as plt\n",
        "\n",
        "#%% Initialization\n",
        "\n",
        "\n",
        "# Parameters\n",
        "  ## Number of electrons in the Quantum Well QW\n",
        "num_electrons = 10\n",
        "  ## Temperature in eV scale\n",
        "T= 0.2\n",
        "  ## Definition of probabilities of susceptible events\n",
        "   ### Events : jumping up, down or nothing\n",
        "j_up=0.2\n",
        "j_down=0.8\n",
        "\n",
        "  ## Time parameters\n",
        "   ### Maximum value of iterations\n",
        "Max=10\n",
        "   ### Length of each iteration\n",
        "dt=1/Max\n",
        "   ### Number od steps\n",
        "num_steps = int(Max/dt)\n",
        "print(num_steps)\n",
        "\n",
        "   ### Time range for electrons\n",
        "time = np.linspace(0,Max,num_steps)\n",
        "\n",
        "\n",
        "  ## Electrons energy\n",
        "   ### Number of energy levels in the Quantum Well QW\n",
        "energy_states = np.arange(1, 5)\n",
        "energy_states\n",
        "\n",
        "   ### Random choice of energy level for each electron\n",
        "ene_store=np.random.randint(low=1, high=5, size=num_electrons)\n",
        "\n",
        "   ### Record the energy level of a single selected electron over time\n",
        "ener=np.zeros(num_steps)\n",
        "\n",
        "\n",
        "\n",
        "\n",
        "#%% Monte Carlo loop\n",
        "\n",
        "# Perform Monte Carlo simulation\n",
        "\n",
        "for step in range(num_steps):\n",
        "    # Random selection of an electron for a probable transition\n",
        "    electron_index = np.random.randint(num_electrons)\n",
        "\n",
        "    # Calculate the potential energy difference for jumping to a neighboring position\n",
        "    potential_energy_diff = np.abs(ene_store - ene_store[electron_index])\n",
        "\n",
        "    # Calculate the probability of jumping to a neighboring position\n",
        "    jump_probabilities = np.exp(-potential_energy_diff/T)\n",
        "\n",
        "    # Normalize the jump probabilities\n",
        "    jump_probabilities /= jump_probabilities.sum()\n",
        "\n",
        "    #Probability of the event to occur\n",
        "     ## Required condition for each event to happen\n",
        "\n",
        "      ### Jumping up: switch the energy by adding +1\n",
        "    ## Events\n",
        "    a=np.random.rand()\n",
        "\n",
        "    if a<j_up:\n",
        "      ene_store[electron_index]+=1\n",
        "      ### Jumping down: switch the energy by substracting +1\n",
        "    elif a<j_up+j_down:\n",
        "      if ene_store[electron_index]-1>1:\n",
        "        ene_store[electron_index]-=1\n",
        "\n",
        "\n",
        "    # Track the energy of an electron selected (choice given by the user) over time\n",
        "    n_select=5\n",
        "    ener[step] = ene_store[n_select]\n",
        "\n",
        "#Print the energies of the selected electron (by user) over time\n",
        "print(ener)\n",
        "\n",
        "\n",
        "# Plot the transition energy states of the selected electron over time\n",
        "plt.figure(figsize=(10, 6))\n",
        "plt.plot(time,ener)\n",
        "plt.xlabel('time')\n",
        "plt.ylabel('Energy Level')\n",
        "plt.title('Transition energy states of electron number %i over time' %(n_select+1))\n",
        "plt.legend()\n",
        "plt.show()\n",
        "\n"
      ]
    }
  ],
  "metadata": {
    "colab": {
      "provenance": [],
      "authorship_tag": "ABX9TyPG8ui+57mHv1eUdXLFjIGd",
      "include_colab_link": true
    },
    "kernelspec": {
      "display_name": "Python 3",
      "name": "python3"
    },
    "language_info": {
      "name": "python"
    }
  },
  "nbformat": 4,
  "nbformat_minor": 0
}